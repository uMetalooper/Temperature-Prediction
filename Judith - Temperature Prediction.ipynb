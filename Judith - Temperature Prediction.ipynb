{
 "cells": [
  {
   "cell_type": "code",
   "execution_count": 1,
   "id": "49100235",
   "metadata": {},
   "outputs": [],
   "source": [
    "import numpy as np\n",
    "import pandas as pd"
   ]
  },
  {
   "cell_type": "markdown",
   "id": "a6848a5a",
   "metadata": {},
   "source": [
    "# Data preprocessing"
   ]
  },
  {
   "cell_type": "code",
   "execution_count": 2,
   "id": "ab9bd0fc",
   "metadata": {},
   "outputs": [],
   "source": [
    "indoorData = pd.read_csv(\"weeklyIndoorTemp.csv\") # read .csv data"
   ]
  },
  {
   "cell_type": "code",
   "execution_count": 4,
   "id": "5664615a",
   "metadata": {},
   "outputs": [
    {
     "data": {
      "text/html": [
       "<div>\n",
       "<style scoped>\n",
       "    .dataframe tbody tr th:only-of-type {\n",
       "        vertical-align: middle;\n",
       "    }\n",
       "\n",
       "    .dataframe tbody tr th {\n",
       "        vertical-align: top;\n",
       "    }\n",
       "\n",
       "    .dataframe thead th {\n",
       "        text-align: right;\n",
       "    }\n",
       "</style>\n",
       "<table border=\"1\" class=\"dataframe\">\n",
       "  <thead>\n",
       "    <tr style=\"text-align: right;\">\n",
       "      <th></th>\n",
       "      <th>Date &amp; Time</th>\n",
       "      <th>Humidity</th>\n",
       "      <th>Temperature</th>\n",
       "      <th>Fahrenheit</th>\n",
       "      <th>No of Occupant</th>\n",
       "    </tr>\n",
       "  </thead>\n",
       "  <tbody>\n",
       "    <tr>\n",
       "      <th>0</th>\n",
       "      <td>[2022-11-18 08:54:00.274]</td>\n",
       "      <td>52.1</td>\n",
       "      <td>20.3</td>\n",
       "      <td>68.54</td>\n",
       "      <td>0</td>\n",
       "    </tr>\n",
       "    <tr>\n",
       "      <th>1</th>\n",
       "      <td>[2022-11-18 08:54:01.287]</td>\n",
       "      <td>52.1</td>\n",
       "      <td>20.3</td>\n",
       "      <td>68.54</td>\n",
       "      <td>0</td>\n",
       "    </tr>\n",
       "    <tr>\n",
       "      <th>2</th>\n",
       "      <td>[2022-11-18 08:54:02.287]</td>\n",
       "      <td>52.1</td>\n",
       "      <td>20.3</td>\n",
       "      <td>68.54</td>\n",
       "      <td>0</td>\n",
       "    </tr>\n",
       "    <tr>\n",
       "      <th>3</th>\n",
       "      <td>[2022-11-18 08:54:03.294]</td>\n",
       "      <td>52.1</td>\n",
       "      <td>20.3</td>\n",
       "      <td>68.54</td>\n",
       "      <td>0</td>\n",
       "    </tr>\n",
       "    <tr>\n",
       "      <th>4</th>\n",
       "      <td>[2022-11-18 08:54:04.297]</td>\n",
       "      <td>52.1</td>\n",
       "      <td>20.3</td>\n",
       "      <td>68.54</td>\n",
       "      <td>0</td>\n",
       "    </tr>\n",
       "  </tbody>\n",
       "</table>\n",
       "</div>"
      ],
      "text/plain": [
       "                  Date & Time  Humidity  Temperature  Fahrenheit  \\\n",
       "0  [2022-11-18 08:54:00.274]       52.1         20.3       68.54   \n",
       "1  [2022-11-18 08:54:01.287]       52.1         20.3       68.54   \n",
       "2  [2022-11-18 08:54:02.287]       52.1         20.3       68.54   \n",
       "3  [2022-11-18 08:54:03.294]       52.1         20.3       68.54   \n",
       "4  [2022-11-18 08:54:04.297]       52.1         20.3       68.54   \n",
       "\n",
       "   No of Occupant  \n",
       "0               0  \n",
       "1               0  \n",
       "2               0  \n",
       "3               0  \n",
       "4               0  "
      ]
     },
     "execution_count": 4,
     "metadata": {},
     "output_type": "execute_result"
    }
   ],
   "source": [
    "indoorData.head()"
   ]
  },
  {
   "cell_type": "markdown",
   "id": "629259a3",
   "metadata": {},
   "source": [
    "Look at the data, we need to transform the Date & Time into numeric form, so it is easier to work with"
   ]
  },
  {
   "cell_type": "code",
   "execution_count": 9,
   "id": "8c228898",
   "metadata": {},
   "outputs": [
    {
     "data": {
      "text/plain": [
       "1668758040.274"
      ]
     },
     "execution_count": 9,
     "metadata": {},
     "output_type": "execute_result"
    }
   ],
   "source": [
    "import datetime\n",
    "\n",
    "inputDateTime = \"[2022-11-18 08:54:00.274] \" # one sample of 'Date & Time'\n",
    "inputDateTimeObject = datetime.datetime.fromisoformat(inputDateTime[1:-2]) # convert to datetime object\n",
    "inputDateTimeObject.timestamp() # convert to timestamp"
   ]
  },
  {
   "cell_type": "code",
   "execution_count": 11,
   "id": "6590756e",
   "metadata": {},
   "outputs": [],
   "source": [
    "# same logic as above but for all rows in 'Date & Time' column\n",
    "indoorData[\"Timestamp\"] = indoorData[\"Date & Time\"].apply(\n",
    "    lambda x: datetime.datetime.fromisoformat(x[1:-2]).timestamp())"
   ]
  },
  {
   "cell_type": "code",
   "execution_count": 39,
   "id": "f867779a",
   "metadata": {},
   "outputs": [
    {
     "data": {
      "text/html": [
       "<div>\n",
       "<style scoped>\n",
       "    .dataframe tbody tr th:only-of-type {\n",
       "        vertical-align: middle;\n",
       "    }\n",
       "\n",
       "    .dataframe tbody tr th {\n",
       "        vertical-align: top;\n",
       "    }\n",
       "\n",
       "    .dataframe thead th {\n",
       "        text-align: right;\n",
       "    }\n",
       "</style>\n",
       "<table border=\"1\" class=\"dataframe\">\n",
       "  <thead>\n",
       "    <tr style=\"text-align: right;\">\n",
       "      <th></th>\n",
       "      <th>Date &amp; Time</th>\n",
       "      <th>Humidity</th>\n",
       "      <th>Temperature</th>\n",
       "      <th>Fahrenheit</th>\n",
       "      <th>No of Occupant</th>\n",
       "      <th>Timestamp</th>\n",
       "    </tr>\n",
       "  </thead>\n",
       "  <tbody>\n",
       "    <tr>\n",
       "      <th>0</th>\n",
       "      <td>[2022-11-18 08:54:00.274]</td>\n",
       "      <td>52.1</td>\n",
       "      <td>20.3</td>\n",
       "      <td>68.54</td>\n",
       "      <td>0</td>\n",
       "      <td>1.668758e+09</td>\n",
       "    </tr>\n",
       "    <tr>\n",
       "      <th>1</th>\n",
       "      <td>[2022-11-18 08:54:01.287]</td>\n",
       "      <td>52.1</td>\n",
       "      <td>20.3</td>\n",
       "      <td>68.54</td>\n",
       "      <td>0</td>\n",
       "      <td>1.668758e+09</td>\n",
       "    </tr>\n",
       "    <tr>\n",
       "      <th>2</th>\n",
       "      <td>[2022-11-18 08:54:02.287]</td>\n",
       "      <td>52.1</td>\n",
       "      <td>20.3</td>\n",
       "      <td>68.54</td>\n",
       "      <td>0</td>\n",
       "      <td>1.668758e+09</td>\n",
       "    </tr>\n",
       "    <tr>\n",
       "      <th>3</th>\n",
       "      <td>[2022-11-18 08:54:03.294]</td>\n",
       "      <td>52.1</td>\n",
       "      <td>20.3</td>\n",
       "      <td>68.54</td>\n",
       "      <td>0</td>\n",
       "      <td>1.668758e+09</td>\n",
       "    </tr>\n",
       "    <tr>\n",
       "      <th>4</th>\n",
       "      <td>[2022-11-18 08:54:04.297]</td>\n",
       "      <td>52.1</td>\n",
       "      <td>20.3</td>\n",
       "      <td>68.54</td>\n",
       "      <td>0</td>\n",
       "      <td>1.668758e+09</td>\n",
       "    </tr>\n",
       "  </tbody>\n",
       "</table>\n",
       "</div>"
      ],
      "text/plain": [
       "                  Date & Time  Humidity  Temperature  Fahrenheit  \\\n",
       "0  [2022-11-18 08:54:00.274]       52.1         20.3       68.54   \n",
       "1  [2022-11-18 08:54:01.287]       52.1         20.3       68.54   \n",
       "2  [2022-11-18 08:54:02.287]       52.1         20.3       68.54   \n",
       "3  [2022-11-18 08:54:03.294]       52.1         20.3       68.54   \n",
       "4  [2022-11-18 08:54:04.297]       52.1         20.3       68.54   \n",
       "\n",
       "   No of Occupant     Timestamp  \n",
       "0               0  1.668758e+09  \n",
       "1               0  1.668758e+09  \n",
       "2               0  1.668758e+09  \n",
       "3               0  1.668758e+09  \n",
       "4               0  1.668758e+09  "
      ]
     },
     "execution_count": 39,
     "metadata": {},
     "output_type": "execute_result"
    }
   ],
   "source": [
    "indoorData.head()"
   ]
  },
  {
   "cell_type": "code",
   "execution_count": 13,
   "id": "5a9b3223",
   "metadata": {},
   "outputs": [],
   "source": [
    "# construct data for machine learning\n",
    "X = indoorData[[\"Humidity\", \"No of Occupant\", \"Timestamp\"]]\n",
    "y = indoorData[\"Temperature\"]"
   ]
  },
  {
   "cell_type": "code",
   "execution_count": 23,
   "id": "1fe74770",
   "metadata": {},
   "outputs": [
    {
     "data": {
      "text/html": [
       "<div>\n",
       "<style scoped>\n",
       "    .dataframe tbody tr th:only-of-type {\n",
       "        vertical-align: middle;\n",
       "    }\n",
       "\n",
       "    .dataframe tbody tr th {\n",
       "        vertical-align: top;\n",
       "    }\n",
       "\n",
       "    .dataframe thead th {\n",
       "        text-align: right;\n",
       "    }\n",
       "</style>\n",
       "<table border=\"1\" class=\"dataframe\">\n",
       "  <thead>\n",
       "    <tr style=\"text-align: right;\">\n",
       "      <th></th>\n",
       "      <th>Humidity</th>\n",
       "      <th>No of Occupant</th>\n",
       "      <th>Timestamp</th>\n",
       "    </tr>\n",
       "  </thead>\n",
       "  <tbody>\n",
       "    <tr>\n",
       "      <th>0</th>\n",
       "      <td>52.1</td>\n",
       "      <td>0</td>\n",
       "      <td>1.668758e+09</td>\n",
       "    </tr>\n",
       "    <tr>\n",
       "      <th>1</th>\n",
       "      <td>52.1</td>\n",
       "      <td>0</td>\n",
       "      <td>1.668758e+09</td>\n",
       "    </tr>\n",
       "    <tr>\n",
       "      <th>2</th>\n",
       "      <td>52.1</td>\n",
       "      <td>0</td>\n",
       "      <td>1.668758e+09</td>\n",
       "    </tr>\n",
       "    <tr>\n",
       "      <th>3</th>\n",
       "      <td>52.1</td>\n",
       "      <td>0</td>\n",
       "      <td>1.668758e+09</td>\n",
       "    </tr>\n",
       "    <tr>\n",
       "      <th>4</th>\n",
       "      <td>52.1</td>\n",
       "      <td>0</td>\n",
       "      <td>1.668758e+09</td>\n",
       "    </tr>\n",
       "  </tbody>\n",
       "</table>\n",
       "</div>"
      ],
      "text/plain": [
       "   Humidity  No of Occupant     Timestamp\n",
       "0      52.1               0  1.668758e+09\n",
       "1      52.1               0  1.668758e+09\n",
       "2      52.1               0  1.668758e+09\n",
       "3      52.1               0  1.668758e+09\n",
       "4      52.1               0  1.668758e+09"
      ]
     },
     "execution_count": 23,
     "metadata": {},
     "output_type": "execute_result"
    }
   ],
   "source": [
    "X.head()"
   ]
  },
  {
   "cell_type": "code",
   "execution_count": 24,
   "id": "022eeba6",
   "metadata": {},
   "outputs": [
    {
     "data": {
      "text/plain": [
       "0    20.3\n",
       "1    20.3\n",
       "2    20.3\n",
       "3    20.3\n",
       "4    20.3\n",
       "Name: Temperature, dtype: float64"
      ]
     },
     "execution_count": 24,
     "metadata": {},
     "output_type": "execute_result"
    }
   ],
   "source": [
    "y.head()"
   ]
  },
  {
   "cell_type": "markdown",
   "id": "d69e5741",
   "metadata": {},
   "source": [
    "# Machine Learning"
   ]
  },
  {
   "cell_type": "markdown",
   "id": "5b27119c",
   "metadata": {},
   "source": [
    "### Temperature prediction using Linear Regression"
   ]
  },
  {
   "cell_type": "code",
   "execution_count": 15,
   "id": "760699f5",
   "metadata": {},
   "outputs": [],
   "source": [
    "from sklearn.linear_model import LinearRegression"
   ]
  },
  {
   "cell_type": "code",
   "execution_count": 28,
   "id": "2dbae5eb",
   "metadata": {},
   "outputs": [],
   "source": [
    "model = LinearRegression().fit(X.to_numpy(), y.to_numpy())"
   ]
  },
  {
   "cell_type": "code",
   "execution_count": 32,
   "id": "6ff8fcc3",
   "metadata": {},
   "outputs": [
    {
     "data": {
      "text/plain": [
       "array([18.80047538])"
      ]
     },
     "execution_count": 32,
     "metadata": {},
     "output_type": "execute_result"
    }
   ],
   "source": [
    "model.predict(X.iloc[0:1].to_numpy())"
   ]
  },
  {
   "cell_type": "code",
   "execution_count": 22,
   "id": "b1b63e14",
   "metadata": {},
   "outputs": [
    {
     "data": {
      "text/plain": [
       "0.17875704337085307"
      ]
     },
     "execution_count": 22,
     "metadata": {},
     "output_type": "execute_result"
    }
   ],
   "source": [
    "model.score(X, y)"
   ]
  },
  {
   "cell_type": "markdown",
   "id": "e436dad2",
   "metadata": {},
   "source": [
    "### Temperature prediction using Decision Tree"
   ]
  },
  {
   "cell_type": "code",
   "execution_count": 33,
   "id": "df5995ea",
   "metadata": {},
   "outputs": [],
   "source": [
    "from sklearn.model_selection import cross_val_score\n",
    "from sklearn.tree import DecisionTreeRegressor"
   ]
  },
  {
   "cell_type": "code",
   "execution_count": 34,
   "id": "dbbe4f81",
   "metadata": {},
   "outputs": [
    {
     "data": {
      "text/plain": [
       "array([-1.59292984,  0.30210855,  0.84987323, -4.5083698 ,  0.3678542 ,\n",
       "        0.33271314,  0.48445631, -1.77938961,  0.40669841, -2.96122142])"
      ]
     },
     "execution_count": 34,
     "metadata": {},
     "output_type": "execute_result"
    }
   ],
   "source": [
    "regressor = DecisionTreeRegressor(random_state=0)\n",
    "cross_val_score(regressor, X.to_numpy(), y.to_numpy(), cv=10)"
   ]
  },
  {
   "cell_type": "code",
   "execution_count": 36,
   "id": "d93867cb",
   "metadata": {},
   "outputs": [
    {
     "data": {
      "text/html": [
       "<style>#sk-container-id-2 {color: black;background-color: white;}#sk-container-id-2 pre{padding: 0;}#sk-container-id-2 div.sk-toggleable {background-color: white;}#sk-container-id-2 label.sk-toggleable__label {cursor: pointer;display: block;width: 100%;margin-bottom: 0;padding: 0.3em;box-sizing: border-box;text-align: center;}#sk-container-id-2 label.sk-toggleable__label-arrow:before {content: \"▸\";float: left;margin-right: 0.25em;color: #696969;}#sk-container-id-2 label.sk-toggleable__label-arrow:hover:before {color: black;}#sk-container-id-2 div.sk-estimator:hover label.sk-toggleable__label-arrow:before {color: black;}#sk-container-id-2 div.sk-toggleable__content {max-height: 0;max-width: 0;overflow: hidden;text-align: left;background-color: #f0f8ff;}#sk-container-id-2 div.sk-toggleable__content pre {margin: 0.2em;color: black;border-radius: 0.25em;background-color: #f0f8ff;}#sk-container-id-2 input.sk-toggleable__control:checked~div.sk-toggleable__content {max-height: 200px;max-width: 100%;overflow: auto;}#sk-container-id-2 input.sk-toggleable__control:checked~label.sk-toggleable__label-arrow:before {content: \"▾\";}#sk-container-id-2 div.sk-estimator input.sk-toggleable__control:checked~label.sk-toggleable__label {background-color: #d4ebff;}#sk-container-id-2 div.sk-label input.sk-toggleable__control:checked~label.sk-toggleable__label {background-color: #d4ebff;}#sk-container-id-2 input.sk-hidden--visually {border: 0;clip: rect(1px 1px 1px 1px);clip: rect(1px, 1px, 1px, 1px);height: 1px;margin: -1px;overflow: hidden;padding: 0;position: absolute;width: 1px;}#sk-container-id-2 div.sk-estimator {font-family: monospace;background-color: #f0f8ff;border: 1px dotted black;border-radius: 0.25em;box-sizing: border-box;margin-bottom: 0.5em;}#sk-container-id-2 div.sk-estimator:hover {background-color: #d4ebff;}#sk-container-id-2 div.sk-parallel-item::after {content: \"\";width: 100%;border-bottom: 1px solid gray;flex-grow: 1;}#sk-container-id-2 div.sk-label:hover label.sk-toggleable__label {background-color: #d4ebff;}#sk-container-id-2 div.sk-serial::before {content: \"\";position: absolute;border-left: 1px solid gray;box-sizing: border-box;top: 0;bottom: 0;left: 50%;z-index: 0;}#sk-container-id-2 div.sk-serial {display: flex;flex-direction: column;align-items: center;background-color: white;padding-right: 0.2em;padding-left: 0.2em;position: relative;}#sk-container-id-2 div.sk-item {position: relative;z-index: 1;}#sk-container-id-2 div.sk-parallel {display: flex;align-items: stretch;justify-content: center;background-color: white;position: relative;}#sk-container-id-2 div.sk-item::before, #sk-container-id-2 div.sk-parallel-item::before {content: \"\";position: absolute;border-left: 1px solid gray;box-sizing: border-box;top: 0;bottom: 0;left: 50%;z-index: -1;}#sk-container-id-2 div.sk-parallel-item {display: flex;flex-direction: column;z-index: 1;position: relative;background-color: white;}#sk-container-id-2 div.sk-parallel-item:first-child::after {align-self: flex-end;width: 50%;}#sk-container-id-2 div.sk-parallel-item:last-child::after {align-self: flex-start;width: 50%;}#sk-container-id-2 div.sk-parallel-item:only-child::after {width: 0;}#sk-container-id-2 div.sk-dashed-wrapped {border: 1px dashed gray;margin: 0 0.4em 0.5em 0.4em;box-sizing: border-box;padding-bottom: 0.4em;background-color: white;}#sk-container-id-2 div.sk-label label {font-family: monospace;font-weight: bold;display: inline-block;line-height: 1.2em;}#sk-container-id-2 div.sk-label-container {text-align: center;}#sk-container-id-2 div.sk-container {/* jupyter's `normalize.less` sets `[hidden] { display: none; }` but bootstrap.min.css set `[hidden] { display: none !important; }` so we also need the `!important` here to be able to override the default hidden behavior on the sphinx rendered scikit-learn.org. See: https://github.com/scikit-learn/scikit-learn/issues/21755 */display: inline-block !important;position: relative;}#sk-container-id-2 div.sk-text-repr-fallback {display: none;}</style><div id=\"sk-container-id-2\" class=\"sk-top-container\"><div class=\"sk-text-repr-fallback\"><pre>DecisionTreeRegressor(random_state=0)</pre><b>In a Jupyter environment, please rerun this cell to show the HTML representation or trust the notebook. <br />On GitHub, the HTML representation is unable to render, please try loading this page with nbviewer.org.</b></div><div class=\"sk-container\" hidden><div class=\"sk-item\"><div class=\"sk-estimator sk-toggleable\"><input class=\"sk-toggleable__control sk-hidden--visually\" id=\"sk-estimator-id-2\" type=\"checkbox\" checked><label for=\"sk-estimator-id-2\" class=\"sk-toggleable__label sk-toggleable__label-arrow\">DecisionTreeRegressor</label><div class=\"sk-toggleable__content\"><pre>DecisionTreeRegressor(random_state=0)</pre></div></div></div></div></div>"
      ],
      "text/plain": [
       "DecisionTreeRegressor(random_state=0)"
      ]
     },
     "execution_count": 36,
     "metadata": {},
     "output_type": "execute_result"
    }
   ],
   "source": [
    "regressor.fit(X.to_numpy(), y.to_numpy())"
   ]
  },
  {
   "cell_type": "code",
   "execution_count": 37,
   "id": "92c319fb",
   "metadata": {},
   "outputs": [
    {
     "data": {
      "text/plain": [
       "array([20.3])"
      ]
     },
     "execution_count": 37,
     "metadata": {},
     "output_type": "execute_result"
    }
   ],
   "source": [
    "regressor.predict(X.iloc[0:1].to_numpy())"
   ]
  },
  {
   "cell_type": "code",
   "execution_count": 38,
   "id": "d4ac705d",
   "metadata": {},
   "outputs": [
    {
     "data": {
      "text/plain": [
       "0.9990321125053702"
      ]
     },
     "execution_count": 38,
     "metadata": {},
     "output_type": "execute_result"
    }
   ],
   "source": [
    "regressor.score(X.to_numpy(), y.to_numpy())"
   ]
  },
  {
   "cell_type": "code",
   "execution_count": null,
   "id": "2dc8ec42",
   "metadata": {},
   "outputs": [],
   "source": []
  }
 ],
 "metadata": {
  "kernelspec": {
   "display_name": "Python 3 (ipykernel)",
   "language": "python",
   "name": "python3"
  },
  "language_info": {
   "codemirror_mode": {
    "name": "ipython",
    "version": 3
   },
   "file_extension": ".py",
   "mimetype": "text/x-python",
   "name": "python",
   "nbconvert_exporter": "python",
   "pygments_lexer": "ipython3",
   "version": "3.10.8"
  }
 },
 "nbformat": 4,
 "nbformat_minor": 5
}
